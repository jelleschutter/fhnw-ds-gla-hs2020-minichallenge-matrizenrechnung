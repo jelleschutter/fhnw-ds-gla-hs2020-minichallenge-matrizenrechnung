{
 "cells": [
  {
   "cell_type": "markdown",
   "metadata": {},
   "source": [
    "**Beteiligte:** Alessio Lopo, Jelle Schutter"
   ]
  },
  {
   "attachments": {
    "image.png": {
     "image/png": "[encoded data removed]"
    }
   },
   "cell_type": "markdown",
   "metadata": {},
   "source": [
    "<div style=\"width: 80%\">\n",
    "<img src=\"attachment:image.png\"><br>\n",
    "<div style=\"font-size: 20pt; float: left;\">Grundlagen der linearen Algebra</div>\n",
    "<div style=\"font-size: 20pt; text-align: right;\">HS 2020</div>\n",
    "<div style=\"font-size: 15pt; margin-top: 10px;\">Fachexperten: Roger Burkhardt, Joana Portmann</div>\n",
    "</div>\n",
    "<br>\n",
    "\n",
    "\n",
    "# Mini-Challenge 2 zum Thema *Matrizenalgebra*\n",
    "\n",
    "In der zweiten Mini-Challenge setzen Sie sich vertieft mit den verschiedenen Matrizenoperationen, die Sie inzwischen in Skript und Übungen kennengelernt haben sollten, auseinander. Zusätzlich vertiefen Sie Ihr Wissen über die numpy-Bibliothek, indem Sie einige besprochene Methoden konkret implementieren und dadurch die Besonderheiten von numpy kennenlernen, an die man sich durchaus etwas gewöhnen muss. Mit der Lösung dieser Mini-Challenge und dem genauen Verständnis aller getätigten Schritte können Sie sich ein erstes leicht vertieftes Wissen über numpy aneignen, dass Sie in einigen weitern wichtigen Kompetenzen des Studiums wieder dringend brauchen werden (Machine Learning, Deep Learning, High-Performance Computing, ..). Stellen Sie also sicher, dass Sie jeden einzelnen Schritt gut verstanden haben, dann werden die kommenden Mini-Challenges für Sie wesentlich einfacher sein.\n",
    "\n",
    "**zu beachten:**\n",
    "\n",
    "* Wir stellen Ihnen teilweise schon ein Rahmengerüst der Implementierung zur Verfügung. Verändern Sie bitte diese Gerüste nicht, sondern fügen Sie Ihren Code bei den entsprechenden Kommentaren ein. \n",
    "\n",
    "* Sie dürfen in dieses Notebook über den Menüpunkt 'Insert' durchaus weitere Zeilen einfügen. Falls Sie gerne Markdown-Notizen in die Zelle einfügen möchten, können Sie den Modus der Zelle von 'Code' auf 'Markdown' setzen (oder Esc-M drücken).\n",
    "\n",
    "* Je besser Sie Ihre Berechnungen und Ihren Code kommentieren, desto eher können Sie bei Fehlern noch Teilpunkte erhalten.\n",
    "\n",
    "**Abgabeformalitäten:**\n",
    "\n",
    "* Geben Sie das ergänzte Jupyter-Notebook spätestens bis zum **04.11.2019** um **09:00** per Email an [Roger Burkhardt](mailto:roger.burkhardt@fhnw.ch) ab.\n",
    "* Die Mini-Challenge wird nicht mit einer Note bewertet, sondern nur danach beurteilt, ob diese sinnvoll bearbeitet wurde. Es muss mindestens eine Mini-Challenge sinnvoll bearbeitet worden sein, damit Sie zum Portfoliogespräch zugelassen werden.\n",
    "* Sie dürfen die Mini-Challenge in Teams (Teamgrösse: max. 4 Personen) lösen und abgeben. \n",
    "* Ausserhalb der Teams darf durchaus über die Übung diskutiert werden, programmieren soll aber jede Gruppe für sich. Gleichen sich zwei abgegebene Notebooks zu stark, werden die Notebooks beider Parteien als nicht sinnvoll bearbeitet betrachtet."
   ]
  },
  {
   "cell_type": "markdown",
   "metadata": {},
   "source": [
    "Für diese Mini-Challenge benötigen Sie nur die numpy-Bibliothek, für die freiwilligen Aufgaben sind `sympy` und `matplotlib` ebenfalls erlaubt:"
   ]
  },
  {
   "cell_type": "code",
   "execution_count": 1,
   "metadata": {},
   "outputs": [],
   "source": [
    "import numpy as np\n",
    "import sympy as sp\n",
    "from IPython.display import display, Math"
   ]
  },
  {
   "cell_type": "markdown",
   "metadata": {},
   "source": [
    "## Aufgabe 1: Das Matrizenprodukt"
   ]
  },
  {
   "cell_type": "markdown",
   "metadata": {},
   "source": [
    "Gegeben seien die Matrizen\n",
    "\n",
    "$$\n",
    "A = \\begin{pmatrix} 2 & 2 & -2 \\\\ 1 & 0 & 2 \\\\ -2 & -3 & 3 \\end{pmatrix}, \\qquad B = \\begin{pmatrix} 5 & -2 \\\\ -1 & 7 \\\\ 0 & 0 \\end{pmatrix}, \\qquad C = \\begin{pmatrix} 0 & 3 \\\\ 3 & -5 \\end{pmatrix}, \\qquad D = \\begin{pmatrix} 1 & -1 \\end{pmatrix}\n",
    "$$\n",
    "\n",
    "Berechnen Sie systematisch alle möglichen Produkte mit numpy. Definieren Sie dazu eine Liste aller Matrizen und iterieren Sie mit zwei for-Loops darüber, um alle möglichen Kombinationen abzudecken. Denken Sie daran, dass das Matrizenprodukt nicht kommutativ ist.\n",
    "\n",
    "**Hinweise:** \n",
    "* Wenn Sie nicht prüfen, ob ein bestimmtes Matrizenprodukt überhaupt möglich ist, dann wird der for-Loop mit einem Fehler abbrechen. Prüfen Sie die Existenz des Produkts über das `shape`-Attribut der numpy-Arrays und geben Sie entweder das Matrixprodukt aus oder eine Meldung, dass das Produkt nicht existiert.\n",
    "* Wir stellen Ihnen eine Funktion `numpy2latex` zur Verfügung, die ein numpy-Array schön mit LateX für das Jupyter-Notebook formatiert. Studieren Sie die Beispielausgabe und verwenden Sie diese Funktion in Ihrem Code.\n",
    "* Mit [Format-Strings](https://pyformat.info/) können Sie Ihre Ausgabe sauber organisieren: `print( \"Wert: {}\".format( wert ) )`"
   ]
  },
  {
   "cell_type": "code",
   "execution_count": 2,
   "metadata": {},
   "outputs": [
    {
     "output_type": "display_data",
     "data": {
      "text/plain": "<IPython.core.display.Math object>",
      "text/latex": "$\\displaystyle \\begin{pmatrix}3 & -2 &  \\\\ -7 & 6 &  \\\\ \\end{pmatrix}$"
     },
     "metadata": {}
    }
   ],
   "source": [
    "def numpy2latex( A ):\n",
    "    \"\"\"\n",
    "    Funktion zum Umwandeln eines zweidimensionalen numpy-Arrays in einen Latex-String.\n",
    "    \"\"\"\n",
    "    # Prüfe, ob das übergebene Array zwei Dimensionen besitzt\n",
    "    if len( A.shape ) > 2:\n",
    "        raise Exception( \"Nur zweidimensionale Arrays erlaubt!\" )\n",
    "    \n",
    "    # Erstelle latex-String\n",
    "    latex = \"\\\\begin{pmatrix}\"\n",
    "    for i in range( A.shape[0] ):\n",
    "        line = \"\"\n",
    "        for j in range( A.shape[1] ):\n",
    "            line += str( A[i,j] ) + \" & \"\n",
    "        latex += line + \" \\\\\\\\ \"\n",
    "    latex += \"\\\\end{pmatrix}\"\n",
    "    return latex\n",
    "\n",
    "# Erstelle eine Beispielmatrix und gebe sie mit `display` und `Math` aus\n",
    "M = np.array( [[3, -2], [-7, 6]] )\n",
    "display(Math(numpy2latex( M )))\n",
    "\n",
    "def display_comparison(left, right, symbols = False):\n",
    "    if symbols:\n",
    "        display(Math(sp.latex(left) + '=' + sp.latex(right)))\n",
    "    else:\n",
    "        display(Math(sp.latex(np.around(left, 10)) + '=' + sp.latex(np.around(right, 10))))\n"
   ]
  },
  {
   "source": [
    "# IHR CODE\n",
    "def exercise_1():\n",
    "    A = np.array([\n",
    "        [2, 2, -2],\n",
    "        [1, 0, 2],\n",
    "        [-2, -3, 3]\n",
    "    ])\n",
    "\n",
    "    B = np.array([\n",
    "        [5, -2],\n",
    "        [-1, 7],\n",
    "        [0, 0]\n",
    "    ])\n",
    "\n",
    "    C = np.array([\n",
    "        [0, 3],\n",
    "        [3, -5]\n",
    "    ])\n",
    "\n",
    "    D = np.array([\n",
    "        [1, -1]\n",
    "    ])\n",
    "\n",
    "    all_matrix = {\n",
    "        'A': A,\n",
    "        'B': B,\n",
    "        'C': C,\n",
    "        'D': D\n",
    "    }\n",
    "\n",
    "    for letter_1 in all_matrix:\n",
    "        matrix_1 = all_matrix[letter_1]\n",
    "        for letter_2 in all_matrix:\n",
    "            matrix_2 = all_matrix[letter_2]\n",
    "            if matrix_1.shape[1] == matrix_2.shape[0]:\n",
    "                display(Math(letter_1 + ' \\cdot ' + letter_2 + '=' + numpy2latex(np.dot(matrix_1, matrix_2))))\n",
    "\n",
    "exercise_1()"
   ],
   "cell_type": "code",
   "metadata": {},
   "execution_count": 3,
   "outputs": [
    {
     "output_type": "display_data",
     "data": {
      "text/plain": "<IPython.core.display.Math object>",
      "text/latex": "$\\displaystyle A \\cdot A=\\begin{pmatrix}10 & 10 & -6 &  \\\\ -2 & -4 & 4 &  \\\\ -13 & -13 & 7 &  \\\\ \\end{pmatrix}$"
     },
     "metadata": {}
    },
    {
     "output_type": "display_data",
     "data": {
      "text/plain": "<IPython.core.display.Math object>",
      "text/latex": "$\\displaystyle A \\cdot B=\\begin{pmatrix}8 & 10 &  \\\\ 5 & -2 &  \\\\ -7 & -17 &  \\\\ \\end{pmatrix}$"
     },
     "metadata": {}
    },
    {
     "output_type": "display_data",
     "data": {
      "text/plain": "<IPython.core.display.Math object>",
      "text/latex": "$\\displaystyle B \\cdot C=\\begin{pmatrix}-6 & 25 &  \\\\ 21 & -38 &  \\\\ 0 & 0 &  \\\\ \\end{pmatrix}$"
     },
     "metadata": {}
    },
    {
     "output_type": "display_data",
     "data": {
      "text/plain": "<IPython.core.display.Math object>",
      "text/latex": "$\\displaystyle C \\cdot C=\\begin{pmatrix}9 & -15 &  \\\\ -15 & 34 &  \\\\ \\end{pmatrix}$"
     },
     "metadata": {}
    },
    {
     "output_type": "display_data",
     "data": {
      "text/plain": "<IPython.core.display.Math object>",
      "text/latex": "$\\displaystyle D \\cdot C=\\begin{pmatrix}-3 & 8 &  \\\\ \\end{pmatrix}$"
     },
     "metadata": {}
    }
   ]
  },
  {
   "cell_type": "markdown",
   "metadata": {},
   "source": [
    "## Aufgabe 2: Rechenregeln der Determinante"
   ]
  },
  {
   "cell_type": "markdown",
   "metadata": {},
   "source": [
    "Zeigen Sie beispielhaft an der quadratischen Matrix **A** aus Aufgabe 1 die Richtigkeit einiger Rechenregeln zur Determinante:"
   ]
  },
  {
   "cell_type": "markdown",
   "metadata": {},
   "source": [
    "**a)** $\\det(k A) = k^n \\det(A)$, wobei $n$ die Zeilen bzw. Spaltenanzahl von **A** bezeichne. Benutzen Sie beispielhaft den Wert $k = 0.1$\n",
    "\n",
    "**b)** $\\det(A^{-1}) = \\frac{1}{\\det{A}}$\n",
    "\n",
    "**c)** $\\det(AB) = \\det(A) \\det(B)$ für $B \\in \\mathbb{R}^{3\\times3}$ beliebig nach Ihrer Wahl\n",
    "\n",
    "**d)** $\\det(A^n) = \\det(A)^n$ für $n=10$\n",
    "\n",
    "**e)** $\\det(A) \\to -\\det(A)$, wenn zwei Zeilen oder Spalten der Matrix vertauscht werden (ein Beispiel genügt)\n",
    "\n",
    "**f)** $\\det(A)$ verändert sich nicht, wenn eine Zeile der Matrix zu einer anderen Zeile dazuaddiert wird (ein Beispiel genügt)\n",
    "\n",
    "**Führen Sie dabei alle Rechenschritte mit Python aus**"
   ]
  },
  {
   "cell_type": "markdown",
   "metadata": {},
   "source": [
    "**Hinweise**: \n",
    "* numpy's Funktionen zur Berechnung der Determinante und der Inverse erzeugen schnell numerische Fehler im Bereich von $< 10^{-15}$. Diese Fehler sind zwar für uns vernachlässigbar klein, aber sind einerseits optisch unschön und machen andererseits Probleme, wenn man mit dem Vergleichsoperator auf das erwartete Resultat prüfen möchte. Falls solche Fehler auftreten, verwenden Sie die Funktion `np.isclose( x, y )` statt `x == y`.\n",
    "* Wichtig für **e)** und **f)**: Beachten Sie, dass die Zuweisung `A2 = A` keine Kopie der Matrix `A` macht, sondern nur einen neuen Zeiger auf das gleiche Objekt. Wenn Sie nach einer derartigen Zuweisung `A` verändern, verändern Sie damit automatisch auch `A2`. Benutzen Sie für eine echte Kopie `A2 = A.copy()` und stellen Sie am Schluss sicher, dass Sie die ursprüngliche Matrix `A` nicht verändert haben.\n",
    "* Auch mit dem Zugriff auf einzelne Zeilen oder Spalten per Index bekommen Sie nicht eine Kopie der Zeile/Spalte zurück, sondern ebenfalls nur einen Zeiger, passen Sie also auf!"
   ]
  },
  {
   "cell_type": "code",
   "execution_count": 4,
   "metadata": {},
   "outputs": [
    {
     "output_type": "display_data",
     "data": {
      "text/plain": "<IPython.core.display.Math object>",
      "text/latex": "$\\displaystyle 0.004=0.004$"
     },
     "metadata": {}
    },
    {
     "output_type": "stream",
     "name": "stdout",
     "text": [
      "True\n"
     ]
    }
   ],
   "source": [
    "# IHR CODE\n",
    "\n",
    "def exercise_2a():\n",
    "    k = 0.1\n",
    "    A = np.array([\n",
    "        [2, 2, -2],\n",
    "        [1, 0, 2],\n",
    "        [-2, -3, 3]\n",
    "    ])\n",
    "\n",
    "    kA = A.dot(k)\n",
    "\n",
    "    return np.linalg.det(kA), k ** A.shape[1] * np.linalg.det(A)\n",
    "\n",
    "exercise_2a_1, exercise_2a_2 = exercise_2a()\n",
    "\n",
    "display_comparison(exercise_2a_1, exercise_2a_2)\n",
    "print(np.isclose(exercise_2a_1, exercise_2a_2))"
   ]
  },
  {
   "cell_type": "code",
   "execution_count": 5,
   "metadata": {},
   "outputs": [
    {
     "output_type": "display_data",
     "data": {
      "text/plain": "<IPython.core.display.Math object>",
      "text/latex": "$\\displaystyle 0.25=0.25$"
     },
     "metadata": {}
    },
    {
     "output_type": "stream",
     "name": "stdout",
     "text": [
      "True\n"
     ]
    }
   ],
   "source": [
    "def exercise_2b():\n",
    "    A = np.array([\n",
    "        [2, 2, -2],\n",
    "        [1, 0, 2],\n",
    "        [-2, -3, 3]\n",
    "    ])\n",
    "\n",
    "    A_inverse = np.linalg.inv(A)\n",
    "\n",
    "    return np.linalg.det(A_inverse), 1 / np.linalg.det(A)\n",
    "\n",
    "exercise_2b_1, exercise_2b_2 = exercise_2b()\n",
    "\n",
    "display_comparison(exercise_2b_1, exercise_2b_2)\n",
    "print(np.isclose(exercise_2b_1, exercise_2b_2))"
   ]
  },
  {
   "cell_type": "code",
   "execution_count": 6,
   "metadata": {},
   "outputs": [
    {
     "output_type": "display_data",
     "data": {
      "text/plain": "<IPython.core.display.Math object>",
      "text/latex": "$\\displaystyle 5664.0=5664.0$"
     },
     "metadata": {}
    },
    {
     "output_type": "stream",
     "name": "stdout",
     "text": [
      "True\n"
     ]
    }
   ],
   "source": [
    "def exercise_2c():\n",
    "    A = np.array([\n",
    "        [2, 2, -2],\n",
    "        [1, 0, 2],\n",
    "        [-2, -3, 3]\n",
    "    ])\n",
    "\n",
    "    # create random 3x3 matrix\n",
    "    B = np.random.randint(-25, 25, (3, 3))\n",
    "\n",
    "    return np.linalg.det(A.dot(B)), np.linalg.det(A) * np.linalg.det(B)\n",
    "\n",
    "exercise_2c_1, exercise_2c_2 = exercise_2c()\n",
    "\n",
    "display_comparison(exercise_2c_1, exercise_2c_2)\n",
    "print(np.isclose(exercise_2c_1, exercise_2c_2))"
   ]
  },
  {
   "cell_type": "code",
   "execution_count": 7,
   "metadata": {},
   "outputs": [
    {
     "output_type": "display_data",
     "data": {
      "text/plain": "<IPython.core.display.Math object>",
      "text/latex": "$\\displaystyle 1048576.0000207443=1048576.0$"
     },
     "metadata": {}
    },
    {
     "output_type": "stream",
     "name": "stdout",
     "text": [
      "True\n"
     ]
    }
   ],
   "source": [
    "def exercise_2d():\n",
    "    n = 10\n",
    "    A = np.array([\n",
    "        [2, 2, -2],\n",
    "        [1, 0, 2],\n",
    "        [-2, -3, 3]\n",
    "    ])\n",
    "\n",
    "    return np.linalg.det(np.linalg.matrix_power(A, n)), np.linalg.det(A) ** n\n",
    "\n",
    "exercise_2d_1, exercise_2d_2 = exercise_2d()\n",
    "\n",
    "display_comparison(exercise_2d_1, exercise_2d_2)\n",
    "print(np.isclose(exercise_2d_1, exercise_2d_2))"
   ]
  },
  {
   "cell_type": "code",
   "execution_count": 8,
   "metadata": {},
   "outputs": [
    {
     "output_type": "display_data",
     "data": {
      "text/plain": "<IPython.core.display.Math object>",
      "text/latex": "$\\displaystyle 4.0=4.0$"
     },
     "metadata": {}
    },
    {
     "output_type": "stream",
     "name": "stdout",
     "text": [
      "True\n"
     ]
    }
   ],
   "source": [
    "def exercise_2e():\n",
    "    n = 10\n",
    "    A = np.array([\n",
    "        [2, 2, -2],\n",
    "        [1, 0, 2],\n",
    "        [-2, -3, 3]\n",
    "    ])\n",
    "\n",
    "    B = A.copy()\n",
    "\n",
    "    B[[0,1]] = B[[1,0]]\n",
    "\n",
    "    return np.linalg.det(A), -np.linalg.det(B)\n",
    "\n",
    "exercise_2e_1, exercise_2e_2 = exercise_2e()\n",
    "\n",
    "display_comparison(exercise_2e_1, exercise_2e_2)\n",
    "print(np.isclose(exercise_2e_1, exercise_2e_2))"
   ]
  },
  {
   "cell_type": "code",
   "execution_count": 9,
   "metadata": {},
   "outputs": [
    {
     "output_type": "display_data",
     "data": {
      "text/plain": "<IPython.core.display.Math object>",
      "text/latex": "$\\displaystyle 4.0=4.0$"
     },
     "metadata": {}
    },
    {
     "output_type": "stream",
     "name": "stdout",
     "text": [
      "True\n"
     ]
    }
   ],
   "source": [
    "def exercise_2f():\n",
    "    n = 10\n",
    "    A = np.array([\n",
    "        [2, 2, -2],\n",
    "        [1, 0, 2],\n",
    "        [-2, -3, 3]\n",
    "    ])\n",
    "\n",
    "    B = A.copy()\n",
    "\n",
    "    B[1] = B[1] + B[0]\n",
    "\n",
    "    return np.linalg.det(A), np.linalg.det(B)\n",
    "\n",
    "exercise_2f_1, exercise_2f_2 = exercise_2f()\n",
    "\n",
    "display_comparison(exercise_2f_1, exercise_2f_2)\n",
    "print(np.isclose(exercise_2f_1, exercise_2f_2))"
   ]
  },
  {
   "cell_type": "markdown",
   "metadata": {},
   "source": [
    "### Freiwillige Zusatzaufgabe: Symbolisches Rechnen\n",
    "\n",
    "Sie können die Rechenregeln **a)**-**c)** auch mit sympy relativ einfach für allgemeine Matrizen zeigen. Benutzen Sie dazu zum Beispiel die folgende aus vier Symbolen definierte allgemeine $2\\times2$-Matrix:"
   ]
  },
  {
   "cell_type": "code",
   "execution_count": 10,
   "metadata": {},
   "outputs": [
    {
     "output_type": "execute_result",
     "data": {
      "text/plain": [
       "Matrix([\n",
       "[a, b],\n",
       "[c, d]])"
      ],
      "text/latex": "$\\displaystyle \\left[\\begin{matrix}a & b\\\\c & d\\end{matrix}\\right]$"
     },
     "metadata": {},
     "execution_count": 10
    }
   ],
   "source": [
    "a, b, c, d = sp.symbols(['a','b','c','d'])\n",
    "A = sp.Matrix( [[a,b],[c,d]] )\n",
    "A"
   ]
  },
  {
   "cell_type": "markdown",
   "metadata": {},
   "source": [
    "**Hinweis**: komplizierte Ausdrücke können Sie möglicherweise mit `sp.simplify()` vereinfachen."
   ]
  },
  {
   "cell_type": "code",
   "execution_count": 11,
   "metadata": {},
   "outputs": [
    {
     "output_type": "display_data",
     "data": {
      "text/plain": "<IPython.core.display.Math object>",
      "text/latex": "$\\displaystyle k^{2} \\left(a d - b c\\right)=k^{2} \\left(a d - b c\\right)$"
     },
     "metadata": {}
    },
    {
     "output_type": "stream",
     "name": "stdout",
     "text": [
      "True\n"
     ]
    }
   ],
   "source": [
    "# IHR CODE\n",
    "def exercise_2_additional_a():\n",
    "    a, b, c, d, k = sp.symbols(['a', 'b', 'c', 'd', 'k'])\n",
    "\n",
    "    A = sp.Matrix([\n",
    "        [a, b],\n",
    "        [c, d]\n",
    "    ])\n",
    "\n",
    "    kA = A * k\n",
    "\n",
    "    return sp.simplify(kA.det()), sp.simplify(k ** A.shape[1] * A.det())\n",
    "\n",
    "exercise_2_additional_a_1, exercise_2_additional_a_2 = exercise_2_additional_a()\n",
    "\n",
    "display_comparison(exercise_2_additional_a_1, exercise_2_additional_a_2, True)\n",
    "print(exercise_2_additional_a_1 == exercise_2_additional_a_2)"
   ]
  },
  {
   "cell_type": "code",
   "execution_count": 12,
   "metadata": {},
   "outputs": [
    {
     "output_type": "display_data",
     "data": {
      "text/plain": "<IPython.core.display.Math object>",
      "text/latex": "$\\displaystyle \\frac{1}{a d - b c}=\\frac{1}{a d - b c}$"
     },
     "metadata": {}
    },
    {
     "output_type": "stream",
     "name": "stdout",
     "text": [
      "True\n"
     ]
    }
   ],
   "source": [
    "def exercise_2_additional_b():\n",
    "    a, b, c, d, k = sp.symbols(['a', 'b', 'c', 'd', 'k'])\n",
    "\n",
    "    A = sp.Matrix([\n",
    "        [a, b],\n",
    "        [c, d]\n",
    "    ])\n",
    "\n",
    "    A_inverse = A.inv()\n",
    "\n",
    "    return sp.simplify(A_inverse.det()), sp.simplify(1 / A.det())\n",
    "\n",
    "exercise_2_additional_b_1, exercise_2_additional_b_2 = exercise_2_additional_b()\n",
    "\n",
    "display_comparison(exercise_2_additional_b_1, exercise_2_additional_b_2, True)\n",
    "print(exercise_2_additional_b_1 == exercise_2_additional_b_2)"
   ]
  },
  {
   "cell_type": "code",
   "execution_count": 13,
   "metadata": {},
   "outputs": [
    {
     "output_type": "display_data",
     "data": {
      "text/plain": "<IPython.core.display.Math object>",
      "text/latex": "$\\displaystyle - 5 a d + 5 b c=- 5 a d + 5 b c$"
     },
     "metadata": {}
    },
    {
     "output_type": "stream",
     "name": "stdout",
     "text": [
      "True\n"
     ]
    }
   ],
   "source": [
    "def exercise_2_additional_c():\n",
    "    a, b, c, d, k = sp.symbols(['a', 'b', 'c', 'd', 'k'])\n",
    "\n",
    "    A = sp.Matrix([\n",
    "        [a, b],\n",
    "        [c, d]\n",
    "    ])\n",
    "\n",
    "    # create random 3x3 matrix\n",
    "    B = np.random.randint(-10, 10, (2, 2))\n",
    "\n",
    "    detB = np.around(np.linalg.det(B), 10)\n",
    "\n",
    "    # convert detB to int because the expressions wont match since 1 != 1.0\n",
    "    if detB.is_integer() and not isinstance(detB, int):\n",
    "        detB = int(detB)\n",
    "\n",
    "    return sp.simplify((A * B).det()), sp.simplify(A.det() * detB)\n",
    "\n",
    "exercise_2_additional_c_1, exercise_2_additional_c_2 = exercise_2_additional_c()\n",
    "\n",
    "display_comparison(exercise_2_additional_c_1, exercise_2_additional_c_2, True)\n",
    "print(exercise_2_additional_c_1.equals(exercise_2_additional_c_2))"
   ]
  },
  {
   "cell_type": "markdown",
   "metadata": {},
   "source": [
    "# Aufgabe 3: Lineare Gleichungssysteme ohne Gauss lösen\n",
    "\n",
    "Im Folienmaterial lernen Sie zusätzlich zum Gauss-Algorithmus zwei weitere Möglichkeiten kennen, wie Sie die Lösung eines linearen Gleichungssystems berechnen können.\n",
    "\n",
    "Gegeben seien die linearen Gleichungssysteme $G_1$:\n",
    "\n",
    "$$\n",
    "\\left| \\;\n",
    "\\begin{align}\n",
    "x + y + z &= 2\\\\\n",
    "6x - 4y + 5z &= 31\\\\\n",
    "5x + 2y + 2z &=13\n",
    "\\end{align}\n",
    "\\;\n",
    "\\right|\n",
    "$$\n",
    "\n",
    "und $G_2$:\n",
    "\n",
    "$$\n",
    "\\left| \\;\n",
    "\\begin{align}\n",
    "x + y + z &= 2\\\\\n",
    "y - 3z &= 1\\\\\n",
    "2x + y + 5z &=0\n",
    "\\end{align}\n",
    "\\;\n",
    "\\right|\n",
    "$$"
   ]
  },
  {
   "cell_type": "markdown",
   "metadata": {},
   "source": [
    "mit den erweiterten Koeffizientenmatrizen"
   ]
  },
  {
   "cell_type": "code",
   "execution_count": 14,
   "metadata": {},
   "outputs": [],
   "source": [
    "M1 = np.array([\n",
    "    [1, 1, 1,  2],\n",
    "    [6,-4, 5, 31],\n",
    "    [5, 2, 2, 13]\n",
    "])\n",
    "M2 = np.array([\n",
    "    [1, 1, 1, 2],\n",
    "    [0, 1,-3, 1],\n",
    "    [2, 1, 5, 0]\n",
    "])"
   ]
  },
  {
   "cell_type": "markdown",
   "metadata": {},
   "source": [
    "## a) Lösung mit Hilfe der Inversen\n",
    "\n",
    "Schreiben Sie eine Funktion `solve( M )`, die als Argument die erweiterte Koeffizientenmatrix eines linearen Gleichungssystems nimmt und es mittels der inversen Matrix löst. Probieren Sie Ihre Funktion an den beiden Gleichungssystemen $G_1$ und $G_2$ aus.\n",
    "\n",
    "**Hinweis**: Dieses Verfahren funktioniert nur für invertierbare Koeffizientenmatrizen. Geben Sie mit `raise Exception(\"<Ihre Fehlermeldung>\")` eine Fehlermeldung aus, falls die zu `M` gehörende Koeffizientenmatrix nicht invertierbar ist."
   ]
  },
  {
   "cell_type": "code",
   "execution_count": 15,
   "metadata": {},
   "outputs": [
    {
     "output_type": "display_data",
     "data": {
      "text/plain": "<IPython.core.display.Math object>",
      "text/latex": "$\\displaystyle G_1$"
     },
     "metadata": {}
    },
    {
     "output_type": "display_data",
     "data": {
      "text/plain": "<IPython.core.display.Math object>",
      "text/latex": "$\\displaystyle x=3.0$"
     },
     "metadata": {}
    },
    {
     "output_type": "display_data",
     "data": {
      "text/plain": "<IPython.core.display.Math object>",
      "text/latex": "$\\displaystyle y=-2.0$"
     },
     "metadata": {}
    },
    {
     "output_type": "display_data",
     "data": {
      "text/plain": "<IPython.core.display.Math object>",
      "text/latex": "$\\displaystyle z=1.0$"
     },
     "metadata": {}
    },
    {
     "output_type": "error",
     "ename": "Exception",
     "evalue": "Matrix kann nicht invertiert werden!",
     "traceback": [
      "\u001b[1;31m---------------------------------------------------------------------------\u001b[0m",
      "\u001b[1;31mException\u001b[0m                                 Traceback (most recent call last)",
      "\u001b[1;32m<ipython-input-15-7d21a5ea730b>\u001b[0m in \u001b[0;36m<module>\u001b[1;34m\u001b[0m\n\u001b[0;32m     17\u001b[0m \u001b[0mdisplay\u001b[0m\u001b[1;33m(\u001b[0m\u001b[0mMath\u001b[0m\u001b[1;33m(\u001b[0m\u001b[1;34m'z='\u001b[0m \u001b[1;33m+\u001b[0m \u001b[0mstr\u001b[0m\u001b[1;33m(\u001b[0m\u001b[0mnp\u001b[0m\u001b[1;33m.\u001b[0m\u001b[0maround\u001b[0m\u001b[1;33m(\u001b[0m\u001b[0mz\u001b[0m\u001b[1;33m,\u001b[0m \u001b[1;36m10\u001b[0m\u001b[1;33m)\u001b[0m\u001b[1;33m)\u001b[0m\u001b[1;33m)\u001b[0m\u001b[1;33m)\u001b[0m\u001b[1;33m\u001b[0m\u001b[1;33m\u001b[0m\u001b[0m\n\u001b[0;32m     18\u001b[0m \u001b[1;33m\u001b[0m\u001b[0m\n\u001b[1;32m---> 19\u001b[1;33m \u001b[0msolve\u001b[0m\u001b[1;33m(\u001b[0m\u001b[0mM2\u001b[0m\u001b[1;33m)\u001b[0m\u001b[1;33m\u001b[0m\u001b[1;33m\u001b[0m\u001b[0m\n\u001b[0m",
      "\u001b[1;32m<ipython-input-15-7d21a5ea730b>\u001b[0m in \u001b[0;36msolve\u001b[1;34m(M)\u001b[0m\n\u001b[0;32m      5\u001b[0m     \u001b[0mcoefficient_matrix\u001b[0m \u001b[1;33m=\u001b[0m \u001b[0mM\u001b[0m\u001b[1;33m[\u001b[0m\u001b[1;33m:\u001b[0m\u001b[1;33m,\u001b[0m \u001b[1;33m:\u001b[0m\u001b[1;33m-\u001b[0m\u001b[1;36m1\u001b[0m\u001b[1;33m]\u001b[0m\u001b[1;33m\u001b[0m\u001b[1;33m\u001b[0m\u001b[0m\n\u001b[0;32m      6\u001b[0m     \u001b[1;32mif\u001b[0m \u001b[0mnp\u001b[0m\u001b[1;33m.\u001b[0m\u001b[0mlinalg\u001b[0m\u001b[1;33m.\u001b[0m\u001b[0mdet\u001b[0m\u001b[1;33m(\u001b[0m\u001b[0mcoefficient_matrix\u001b[0m\u001b[1;33m)\u001b[0m \u001b[1;33m==\u001b[0m \u001b[1;36m0\u001b[0m\u001b[1;33m:\u001b[0m\u001b[1;33m\u001b[0m\u001b[1;33m\u001b[0m\u001b[0m\n\u001b[1;32m----> 7\u001b[1;33m         \u001b[1;32mraise\u001b[0m \u001b[0mException\u001b[0m\u001b[1;33m(\u001b[0m\u001b[1;34m'Matrix kann nicht invertiert werden!'\u001b[0m\u001b[1;33m)\u001b[0m\u001b[1;33m\u001b[0m\u001b[1;33m\u001b[0m\u001b[0m\n\u001b[0m\u001b[0;32m      8\u001b[0m     \u001b[1;32melse\u001b[0m\u001b[1;33m:\u001b[0m\u001b[1;33m\u001b[0m\u001b[1;33m\u001b[0m\u001b[0m\n\u001b[0;32m      9\u001b[0m         \u001b[0mcoefficient_matrix\u001b[0m \u001b[1;33m=\u001b[0m \u001b[0mnp\u001b[0m\u001b[1;33m.\u001b[0m\u001b[0mlinalg\u001b[0m\u001b[1;33m.\u001b[0m\u001b[0minv\u001b[0m\u001b[1;33m(\u001b[0m\u001b[0mcoefficient_matrix\u001b[0m\u001b[1;33m)\u001b[0m\u001b[1;33m\u001b[0m\u001b[1;33m\u001b[0m\u001b[0m\n",
      "\u001b[1;31mException\u001b[0m: Matrix kann nicht invertiert werden!"
     ]
    }
   ],
   "source": [
    "# IHR CODE\n",
    "\n",
    "def solve(M):\n",
    "    result = np.array([M[:, -1]])\n",
    "    coefficient_matrix = M[:, :-1]\n",
    "    if np.linalg.det(coefficient_matrix) == 0:\n",
    "        raise Exception('Matrix kann nicht invertiert werden!')\n",
    "    else:\n",
    "        coefficient_matrix = np.linalg.inv(coefficient_matrix)\n",
    "        return result.dot(np.swapaxes(coefficient_matrix, 0, 1))\n",
    "\n",
    "[[x, y, z]] = solve(M1)\n",
    "\n",
    "display(Math('$G_1$'))\n",
    "display(Math('x=' + str(np.around(x, 10))))\n",
    "display(Math('y=' + str(np.around(y, 10))))\n",
    "display(Math('z=' + str(np.around(z, 10))))\n",
    "\n",
    "solve(M2)\n"
   ]
  },
  {
   "cell_type": "markdown",
   "metadata": {},
   "source": [
    "## b) Lösung mittels Cramer'scher Regel\n",
    "\n",
    "Schreiben Sie nun eine Funktion `cramer( M )`, die als Argument ebenfalls die erweiterte Koeffizientenmatrix eines linearen Gleichungssystems nimmt, aber jetzt die Cramer'sche Regel zur Lösung verwendet. Probieren Sie Ihre Funktion ebenfalls an den beiden Gleichungssystemen $G_1$ und $G_2$ aus.\n",
    "\n",
    "**Hinweis**: Hier funktioniert das Verfahren nur für Koeffizientenmatrizen mit Determinante ungleich Null, geben Sie ebenfalls falls nötig eine entsprechende Fehlermeldung aus."
   ]
  },
  {
   "cell_type": "code",
   "execution_count": 16,
   "metadata": {},
   "outputs": [
    {
     "output_type": "display_data",
     "data": {
      "text/plain": "<IPython.core.display.Math object>",
      "text/latex": "$\\displaystyle G_1$"
     },
     "metadata": {}
    },
    {
     "output_type": "display_data",
     "data": {
      "text/plain": "<IPython.core.display.Math object>",
      "text/latex": "$\\displaystyle x=3.0$"
     },
     "metadata": {}
    },
    {
     "output_type": "display_data",
     "data": {
      "text/plain": "<IPython.core.display.Math object>",
      "text/latex": "$\\displaystyle y=-2.0$"
     },
     "metadata": {}
    },
    {
     "output_type": "display_data",
     "data": {
      "text/plain": "<IPython.core.display.Math object>",
      "text/latex": "$\\displaystyle z=1.0$"
     },
     "metadata": {}
    },
    {
     "output_type": "error",
     "ename": "Exception",
     "evalue": "Matrix kann nicht berechnet werden!",
     "traceback": [
      "\u001b[1;31m---------------------------------------------------------------------------\u001b[0m",
      "\u001b[1;31mException\u001b[0m                                 Traceback (most recent call last)",
      "\u001b[1;32m<ipython-input-16-a5002bc48e45>\u001b[0m in \u001b[0;36m<module>\u001b[1;34m\u001b[0m\n\u001b[0;32m     28\u001b[0m \u001b[0mdisplay\u001b[0m\u001b[1;33m(\u001b[0m\u001b[0mMath\u001b[0m\u001b[1;33m(\u001b[0m\u001b[1;34m'z='\u001b[0m \u001b[1;33m+\u001b[0m \u001b[0mstr\u001b[0m\u001b[1;33m(\u001b[0m\u001b[0mnp\u001b[0m\u001b[1;33m.\u001b[0m\u001b[0maround\u001b[0m\u001b[1;33m(\u001b[0m\u001b[0mz\u001b[0m\u001b[1;33m,\u001b[0m \u001b[1;36m10\u001b[0m\u001b[1;33m)\u001b[0m\u001b[1;33m)\u001b[0m\u001b[1;33m)\u001b[0m\u001b[1;33m)\u001b[0m\u001b[1;33m\u001b[0m\u001b[1;33m\u001b[0m\u001b[0m\n\u001b[0;32m     29\u001b[0m \u001b[1;33m\u001b[0m\u001b[0m\n\u001b[1;32m---> 30\u001b[1;33m \u001b[1;33m[\u001b[0m\u001b[0mx\u001b[0m\u001b[1;33m,\u001b[0m \u001b[0my\u001b[0m\u001b[1;33m,\u001b[0m \u001b[0mz\u001b[0m\u001b[1;33m]\u001b[0m \u001b[1;33m=\u001b[0m \u001b[0mcramer\u001b[0m\u001b[1;33m(\u001b[0m\u001b[0mM2\u001b[0m\u001b[1;33m)\u001b[0m\u001b[1;33m\u001b[0m\u001b[1;33m\u001b[0m\u001b[0m\n\u001b[0m",
      "\u001b[1;32m<ipython-input-16-a5002bc48e45>\u001b[0m in \u001b[0;36mcramer\u001b[1;34m(M)\u001b[0m\n\u001b[0;32m      8\u001b[0m \u001b[1;33m\u001b[0m\u001b[0m\n\u001b[0;32m      9\u001b[0m     \u001b[1;32mif\u001b[0m \u001b[0mdetA\u001b[0m \u001b[1;33m==\u001b[0m \u001b[1;36m0\u001b[0m\u001b[1;33m:\u001b[0m\u001b[1;33m\u001b[0m\u001b[1;33m\u001b[0m\u001b[0m\n\u001b[1;32m---> 10\u001b[1;33m         \u001b[1;32mraise\u001b[0m \u001b[0mException\u001b[0m\u001b[1;33m(\u001b[0m\u001b[1;34m'Matrix kann nicht berechnet werden!'\u001b[0m\u001b[1;33m)\u001b[0m\u001b[1;33m\u001b[0m\u001b[1;33m\u001b[0m\u001b[0m\n\u001b[0m\u001b[0;32m     11\u001b[0m     \u001b[1;32melse\u001b[0m\u001b[1;33m:\u001b[0m\u001b[1;33m\u001b[0m\u001b[1;33m\u001b[0m\u001b[0m\n\u001b[0;32m     12\u001b[0m         \u001b[0msolutions\u001b[0m \u001b[1;33m=\u001b[0m \u001b[1;33m[\u001b[0m\u001b[1;33m]\u001b[0m\u001b[1;33m\u001b[0m\u001b[1;33m\u001b[0m\u001b[0m\n",
      "\u001b[1;31mException\u001b[0m: Matrix kann nicht berechnet werden!"
     ]
    }
   ],
   "source": [
    "# IHR CODE\n",
    "\n",
    "def cramer(M):\n",
    "    result = np.array([M[:, -1]])\n",
    "    coefficient_matrix = M[:, :-1]\n",
    "\n",
    "    detA = np.linalg.det(coefficient_matrix)\n",
    "\n",
    "    if detA == 0:\n",
    "        raise Exception('Matrix kann nicht berechnet werden!')\n",
    "    else:\n",
    "        solutions = []\n",
    "        \n",
    "        cols = coefficient_matrix.shape[1]\n",
    "\n",
    "        for i in range(cols):\n",
    "            tmp_matrix = coefficient_matrix.copy()\n",
    "            tmp_matrix[:, i] = result\n",
    "            solutions.append(np.linalg.det(tmp_matrix) / detA)\n",
    "\n",
    "        return solutions\n",
    "\n",
    "[x, y, z] = cramer(M1)\n",
    "\n",
    "display(Math('$G_1$'))\n",
    "display(Math('x=' + str(np.around(x, 10))))\n",
    "display(Math('y=' + str(np.around(y, 10))))\n",
    "display(Math('z=' + str(np.around(z, 10))))\n",
    "\n",
    "[x, y, z] = cramer(M2)"
   ]
  },
  {
   "cell_type": "markdown",
   "metadata": {},
   "source": [
    "## c) Performance\n",
    "\n",
    "Indem Sie [%timeit](https://ipython.readthedocs.io/en/stable/interactive/magics.html#magic-timeit) mit einem Leerzeichen vor den Aufruf der Funktion schreiben, können Sie Ihre beiden Funktionen `solve` und `cramer` jeweils mehrere Male laufen lassen und die durchschnittlich benötigte Laufzeit ausgeben lassen."
   ]
  },
  {
   "cell_type": "code",
   "execution_count": 17,
   "metadata": {},
   "outputs": [
    {
     "output_type": "stream",
     "name": "stdout",
     "text": [
      "78 µs ± 416 ns per loop (mean ± std. dev. of 7 runs, 10000 loops each)\n"
     ]
    }
   ],
   "source": [
    "# IHR CODE\n",
    "%timeit solve(M1)"
   ]
  },
  {
   "cell_type": "code",
   "execution_count": 18,
   "metadata": {
    "tags": []
   },
   "outputs": [
    {
     "output_type": "stream",
     "name": "stdout",
     "text": [
      "61.8 µs ± 286 ns per loop (mean ± std. dev. of 7 runs, 10000 loops each)\n"
     ]
    }
   ],
   "source": [
    "# IHR CODE\n",
    "%timeit cramer(M1)"
   ]
  },
  {
   "cell_type": "markdown",
   "metadata": {},
   "source": [
    "Mit `np.random.rand()` können Sie auch grössere Matrizen generieren. Es ist zu erwarten, dass die Unterschiede bei grossen Matrizen noch grösser werden. Zum Beispiel:"
   ]
  },
  {
   "cell_type": "code",
   "execution_count": 19,
   "metadata": {},
   "outputs": [],
   "source": [
    "S = np.random.rand(20,21)"
   ]
  },
  {
   "cell_type": "markdown",
   "metadata": {},
   "source": [
    "Berechnen Sie auch hier die durchschnittlich benötigten Laufzeiten:"
   ]
  },
  {
   "cell_type": "code",
   "execution_count": 20,
   "metadata": {},
   "outputs": [],
   "source": [
    "S1 = np.random.rand(2, 3)\n",
    "S2 = np.random.rand(3, 4)\n",
    "S3 = np.random.rand(4, 5)\n",
    "S4 = np.random.rand(6, 7)\n",
    "S5 = np.random.rand(10, 11)\n",
    "S6 = np.random.rand(25, 26)"
   ]
  },
  {
   "cell_type": "code",
   "execution_count": 21,
   "metadata": {},
   "outputs": [
    {
     "output_type": "stream",
     "name": "stdout",
     "text": [
      "66.9 µs ± 210 ns per loop (mean ± std. dev. of 7 runs, 10000 loops each)\n",
      "75 µs ± 415 ns per loop (mean ± std. dev. of 7 runs, 10000 loops each)\n",
      "82.7 µs ± 804 ns per loop (mean ± std. dev. of 7 runs, 10000 loops each)\n",
      "97.3 µs ± 681 ns per loop (mean ± std. dev. of 7 runs, 10000 loops each)\n",
      "278 µs ± 2.45 µs per loop (mean ± std. dev. of 7 runs, 1000 loops each)\n",
      "1.07 ms ± 16.2 µs per loop (mean ± std. dev. of 7 runs, 1000 loops each)\n"
     ]
    }
   ],
   "source": [
    "# IHR CODE\n",
    "%timeit solve(S1)\n",
    "%timeit solve(S2)\n",
    "%timeit solve(S3)\n",
    "%timeit solve(S4)\n",
    "%timeit solve(S5)\n",
    "%timeit solve(S6)"
   ]
  },
  {
   "cell_type": "code",
   "execution_count": 22,
   "metadata": {},
   "outputs": [
    {
     "output_type": "stream",
     "name": "stdout",
     "text": [
      "46.4 µs ± 73.5 ns per loop (mean ± std. dev. of 7 runs, 10000 loops each)\n",
      "60.4 µs ± 98.4 ns per loop (mean ± std. dev. of 7 runs, 10000 loops each)\n",
      "74.6 µs ± 197 ns per loop (mean ± std. dev. of 7 runs, 10000 loops each)\n",
      "105 µs ± 132 ns per loop (mean ± std. dev. of 7 runs, 10000 loops each)\n",
      "1.1 ms ± 12.5 µs per loop (mean ± std. dev. of 7 runs, 1000 loops each)\n",
      "12.2 ms ± 31.2 µs per loop (mean ± std. dev. of 7 runs, 100 loops each)\n"
     ]
    }
   ],
   "source": [
    "# IHR CODE\n",
    "%timeit cramer(S1)\n",
    "%timeit cramer(S2)\n",
    "%timeit cramer(S3)\n",
    "%timeit cramer(S4)\n",
    "%timeit cramer(S5)\n",
    "%timeit cramer(S6)"
   ]
  },
  {
   "cell_type": "markdown",
   "metadata": {},
   "source": [
    "Was stellen Sie fest? Welche Ihrer Funktionen ist effizienter?"
   ]
  },
  {
   "cell_type": "markdown",
   "metadata": {},
   "source": [
    "Die Lösung mit Hilfe der Inversen ist langsamer bei kleineren Matrizen jedoch schneller bei Matrizen, welche grösser sind als 5x6."
   ]
  },
  {
   "cell_type": "markdown",
   "metadata": {},
   "source": [
    "### Freiwilliger Zusatz\n",
    "\n",
    "Überlegen Sie sich dazu auch, für welche spezifischen Problemfälle Sie 1) den Gaussalgorithmus, 2) die Inverse der Koeffizientenmatrix oder 3) die Cramer'sche Regel einsetzen würden (unterscheiden Sie dabei, ob Sie von Hand rechnen müssen oder den Computer benützen dürfen).\n",
    "\n",
    "#### von Hand\n",
    "Gaussalgorithmus immer bei m x n Matrizen.\n",
    "\n",
    "Die Inverse der Koeffizientenmatrix bei bis zu 2 x 2 Marizen und bei grösseren Marizen die Cramer'sche Regel.\n",
    "\n",
    "#### Computer\n",
    "Gaussalgorithmus immer bei m x n Matrizen.\n",
    "\n",
    "Die Inverse der Koeffizientenmatrix würden wir in allen anderen Fällen einsetzen da sie sowohl einfacher ist um zu programmieren als auch weniger Rechenleistung benötigt als die Cramer'sche Regel.\n"
   ]
  }
 ],
 "metadata": {
  "kernelspec": {
   "display_name": "Python 3",
   "language": "python",
   "name": "python3"
  },
  "language_info": {
   "codemirror_mode": {
    "name": "ipython",
    "version": 3
   },
   "file_extension": ".py",
   "mimetype": "text/x-python",
   "name": "python",
   "nbconvert_exporter": "python",
   "pygments_lexer": "ipython3",
   "version": "3.8.5-final"
  }
 },
 "nbformat": 4,
 "nbformat_minor": 2
}